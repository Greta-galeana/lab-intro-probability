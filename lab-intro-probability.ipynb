{
 "cells": [
  {
   "cell_type": "markdown",
   "metadata": {},
   "source": [
    "# Lab | Intro to Probability"
   ]
  },
  {
   "cell_type": "markdown",
   "metadata": {},
   "source": [
    "**Objective**\n",
    "\n",
    "Welcome to this Intro to Probability lab, where we explore decision-making scenarios through the lens of probability and strategic analysis. In the business world, making informed decisions is crucial, especially when faced with uncertainties. This lab focuses on scenarios where probabilistic outcomes play a significant role in shaping strategies and outcomes. Students will engage in exercises that require assessing and choosing optimal paths based on data-driven insights. The goal is to enhance your skills by applying probability concepts to solve real-world problems."
   ]
  },
  {
   "cell_type": "markdown",
   "metadata": {},
   "source": [
    "**Challenge 1**"
   ]
  },
  {
   "cell_type": "markdown",
   "metadata": {},
   "source": [
    "#### Ironhack Airlines \n",
    "\n",
    "Often Airlines sell more tickets than they have seats available, this is called overbooking. Consider the following:\n",
    "- A plane has 450 seats. \n",
    "- Based on historical data we conclude that each individual passenger has a 3% chance of missing it's flight. \n",
    "\n",
    "If the Ironhack Airlines routinely sells 460 tickets, what is the chance that they have a seats for all passenger?"
   ]
  },
  {
   "cell_type": "code",
   "execution_count": 4,
   "metadata": {},
   "outputs": [],
   "source": [
    "from scipy.stats import binom"
   ]
  },
  {
   "cell_type": "code",
   "execution_count": 7,
   "metadata": {},
   "outputs": [
    {
     "name": "stdout",
     "output_type": "stream",
     "text": [
      "La probabilidad de que haya asientos suficientes es: 0.8845\n"
     ]
    }
   ],
   "source": [
    "import scipy.stats as stats\n",
    "\n",
    "# Parámetros\n",
    "n_tickets_vendidos = 460      # Número total de boletos vendidos\n",
    "n_asientos = 450              # Número de asientos disponibles\n",
    "p_asistir = 0.97              # Probabilidad de que un pasajero se presente (97%)\n",
    "\n",
    "# Distribución binomial acumulada\n",
    "probabilidad = stats.binom.cdf(n_asientos, n_boletos_vendidos, p_asistir)\n",
    "\n",
    "# Mostrar resultado\n",
    "print(f'La probabilidad de que haya asientos suficientes es: {probabilidad:.4f}')\n"
   ]
  },
  {
   "cell_type": "markdown",
   "metadata": {},
   "source": [
    "**Challenge 2**"
   ]
  },
  {
   "cell_type": "markdown",
   "metadata": {},
   "source": [
    "#### Ironhack Call Center "
   ]
  },
  {
   "cell_type": "markdown",
   "metadata": {},
   "source": [
    "Suppose a customer service representative at a call center is handling customer complaints. Consider the following:\n",
    "- The probability of successfully resolving a customer complaint on the first attempt is 0.3. \n",
    "\n",
    "\n",
    "What is the probability that the representative needs to make at least three attempts before successfully resolving a customer complaint?"
   ]
  },
  {
   "cell_type": "code",
   "execution_count": 8,
   "metadata": {},
   "outputs": [
    {
     "name": "stdout",
     "output_type": "stream",
     "text": [
      "La probabilidad de que se necesiten al menos 3 intentos es: 0.4900\n"
     ]
    }
   ],
   "source": [
    "# Parámetros\n",
    "p_exito = 0.3          # Probabilidad de éxito en un intento\n",
    "p_fallo = 1 - p_exito  # Probabilidad de fallo\n",
    "\n",
    "# Probabilidad de necesitar al menos 3 intentos\n",
    "probabilidad = p_fallo ** 2\n",
    "\n",
    "# Mostrar resultado\n",
    "print(f'La probabilidad de que se necesiten al menos 3 intentos es: {probabilidad:.4f}')\n"
   ]
  },
  {
   "cell_type": "markdown",
   "metadata": {},
   "source": [
    "**Challenge 3**"
   ]
  },
  {
   "cell_type": "markdown",
   "metadata": {},
   "source": [
    "#### Ironhack Website"
   ]
  },
  {
   "cell_type": "markdown",
   "metadata": {},
   "source": [
    "Consider a scenario related to Ironhack website traffic. Where:\n",
    "- our website takes on average 500 visits per hour.\n",
    "- the website's server is designed to handle up to 550 vists per hour.\n",
    "\n",
    "\n",
    "What is the probability of the website server being overwhelmed?"
   ]
  },
  {
   "cell_type": "code",
   "execution_count": 16,
   "metadata": {},
   "outputs": [
    {
     "name": "stdout",
     "output_type": "stream",
     "text": [
      "La probabilidad de que el servidor sea abrumado es: 0.0129\n"
     ]
    }
   ],
   "source": [
    "p_visits = 500\n",
    "p_server = 550\n",
    "# Probabilidad de que el servidor sea abrumado (más de 550 visitas)\n",
    "probabilidad = 1 - stats.poisson.cdf(p_server, p_visits)\n",
    "print(f'La probabilidad de que el servidor sea abrumado es: {probabilidad:.4f}')"
   ]
  },
  {
   "cell_type": "markdown",
   "metadata": {},
   "source": [
    "What is the probability of being overwhelmed at some point during a day? (consider 24hours)"
   ]
  },
  {
   "cell_type": "code",
   "execution_count": 17,
   "metadata": {},
   "outputs": [
    {
     "name": "stdout",
     "output_type": "stream",
     "text": [
      "La probabilidad de que el servidor sea abrumado al menos 0.2677\n"
     ]
    }
   ],
   "source": [
    "p_visits = 500      # Promedio de visitas por hora\n",
    "p_server = 550 # Capacidad máxima del servidor (visitas por hora)\n",
    "\n",
    "# Probabilidad de que el servidor sea abrumado en una hora\n",
    "probabilidad_abrumado_una_hora = 1 - stats.poisson.cdf(p_server, p_visits)\n",
    "\n",
    "# Probabilidad de que el servidor no sea abrumado en 24 horas\n",
    "probabilidad_no_abrumado_24h = (1 - probabilidad_abrumado_una_hora) ** 24\n",
    "\n",
    "# Probabilidad de que el servidor sea abrumado al menos una vez en 24 horas\n",
    "probabilidad_abrumado_24h = 1 - probabilidad_no_abrumado_24h\n",
    "print(f'La probabilidad de que el servidor sea abrumado al menos {probabilidad_abrumado_24h:.4f}')"
   ]
  },
  {
   "cell_type": "markdown",
   "metadata": {},
   "source": [
    "**Challenge 4**"
   ]
  },
  {
   "cell_type": "markdown",
   "metadata": {},
   "source": [
    "#### Ironhack Helpdesk"
   ]
  },
  {
   "cell_type": "markdown",
   "metadata": {},
   "source": [
    "Consider a scenario related to the time between arrivals of customers at a service desk.\n",
    "\n",
    "On average, a customers arrives every 10minutes.\n",
    "\n",
    "What is the probability that the next customer will arrive within the next 5 minutes?"
   ]
  },
  {
   "cell_type": "code",
   "execution_count": 18,
   "metadata": {},
   "outputs": [
    {
     "name": "stdout",
     "output_type": "stream",
     "text": [
      "La probabilidad de que el próximo cliente llegue en los próximos 5 minutos es: 0.3935\n"
     ]
    }
   ],
   "source": [
    "import math\n",
    "\n",
    "# Parámetros\n",
    "lmbda = 1 / 10  # Tasa de llegadas por minuto (1 cliente cada 10 minutos)\n",
    "t = 5           # Tiempo en minutos (queremos saber en los próximos 5 minutos)\n",
    "\n",
    "# Fórmula con lambda function\n",
    "probabilidad = (lambda lmbda, t: 1 - math.exp(-lmbda * t))(lmbda, t)\n",
    "\n",
    "# Mostrar resultado\n",
    "print(f'La probabilidad de que el próximo cliente llegue en los próximos {t} minutos es: {probabilidad:.4f}')\n"
   ]
  },
  {
   "cell_type": "markdown",
   "metadata": {},
   "source": [
    "If there is no customer for 15minutes, employees can that a 5minutes break.\n",
    "\n",
    "What is the probability an employee taking a break?"
   ]
  },
  {
   "cell_type": "code",
   "execution_count": 19,
   "metadata": {},
   "outputs": [
    {
     "name": "stdout",
     "output_type": "stream",
     "text": [
      "La probabilidad de que el empleado pueda tomarse un descanso en los proximos 5 minutos es: 0.2835\n"
     ]
    }
   ],
   "source": [
    "lmbda = 1 / 15\n",
    "t = 5\n",
    "probabilidad = (lambda lmbda, t: 1 - math.exp(-lmbda * t))(lmbda, t)\n",
    "print(f'La probabilidad de que el empleado pueda tomarse un descanso en los proximos {t} minutos es: {probabilidad:.4f}')"
   ]
  },
  {
   "cell_type": "markdown",
   "metadata": {},
   "source": [
    "**Challenge 5**"
   ]
  },
  {
   "cell_type": "markdown",
   "metadata": {},
   "source": [
    "The weights of a certain species of birds follow a normal distribution with a mean weight of 150 grams and a standard deviation of 10 grams. \n",
    "\n",
    "- If we randomly select a bird, what is the probability that its weight is between 140 and 160 grams?"
   ]
  },
  {
   "cell_type": "code",
   "execution_count": null,
   "metadata": {},
   "outputs": [],
   "source": [
    "#code here"
   ]
  },
  {
   "cell_type": "markdown",
   "metadata": {},
   "source": [
    "**Challenge 6**"
   ]
  },
  {
   "cell_type": "markdown",
   "metadata": {},
   "source": [
    "If the lifetime (in hours) of a certain electronic component follows an exponential distribution with a mean lifetime of 50 hours, what is the probability that the component fails within the first 30 hours?"
   ]
  },
  {
   "cell_type": "code",
   "execution_count": null,
   "metadata": {},
   "outputs": [],
   "source": [
    "#code here"
   ]
  }
 ],
 "metadata": {
  "kernelspec": {
   "display_name": "Python 3",
   "language": "python",
   "name": "python3"
  },
  "language_info": {
   "codemirror_mode": {
    "name": "ipython",
    "version": 3
   },
   "file_extension": ".py",
   "mimetype": "text/x-python",
   "name": "python",
   "nbconvert_exporter": "python",
   "pygments_lexer": "ipython3",
   "version": "3.11.9"
  }
 },
 "nbformat": 4,
 "nbformat_minor": 2
}
